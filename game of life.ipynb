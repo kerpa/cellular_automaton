{
 "cells": [
  {
   "cell_type": "code",
   "execution_count": 2,
   "metadata": {},
   "outputs": [],
   "source": [
    "import numpy as np\n",
    "import matplotlib.pyplot as plt\n",
    "import pandas as pd"
   ]
  },
  {
   "cell_type": "code",
   "execution_count": 36,
   "metadata": {},
   "outputs": [
    {
     "data": {
      "text/plain": [
       "array([[0., 0., 0., 0., 0.],\n",
       "       [0., 0., 0., 0., 0.],\n",
       "       [0., 0., 0., 0., 0.],\n",
       "       [0., 0., 0., 0., 0.],\n",
       "       [0., 0., 0., 0., 0.]])"
      ]
     },
     "execution_count": 36,
     "metadata": {},
     "output_type": "execute_result"
    }
   ],
   "source": [
    "#creating the grid\n",
    "GridA = np.zeros((5,5))\n",
    "GridB = np.zeros((5,5))\n",
    "\n",
    "GridA"
   ]
  },
  {
   "cell_type": "code",
   "execution_count": 37,
   "metadata": {},
   "outputs": [
    {
     "data": {
      "text/plain": [
       "array([[0., 0., 0., 0., 0.],\n",
       "       [0., 0., 0., 0., 0.],\n",
       "       [0., 0., 1., 0., 0.],\n",
       "       [0., 0., 0., 0., 0.],\n",
       "       [0., 0., 0., 0., 0.]])"
      ]
     },
     "execution_count": 37,
     "metadata": {},
     "output_type": "execute_result"
    }
   ],
   "source": [
    "#creating the perturbation\n",
    "GridA[2,2] = 1\n",
    "\n",
    "GridA"
   ]
  },
  {
   "cell_type": "code",
   "execution_count": 6,
   "metadata": {},
   "outputs": [],
   "source": [
    "#number of iterations\n",
    "N = 100"
   ]
  },
  {
   "cell_type": "code",
   "execution_count": null,
   "metadata": {},
   "outputs": [
    {
     "data": {
      "text/plain": [
       "array([[1., 0., 0., 0., 0.],\n",
       "       [1., 0., 0., 0., 0.],\n",
       "       [1., 0., 1., 0., 0.],\n",
       "       [1., 0., 0., 0., 0.],\n",
       "       [1., 0., 0., 0., 0.]])"
      ]
     },
     "execution_count": 30,
     "metadata": {},
     "output_type": "execute_result"
    }
   ],
   "source": [
    "# for i in range(len(GridA)):\n",
    "#     GridA[i,0] = 1\n",
    "\n",
    "# GridA"
   ]
  },
  {
   "cell_type": "code",
   "execution_count": 34,
   "metadata": {},
   "outputs": [],
   "source": [
    "#Creation of the sum function\n",
    "\n",
    "def sum_area(i,j,Grid):\n",
    "    return (Grid[i-1,j-1] + Grid[i-1,j] + Grid[i-1,j+1] + Grid[i,j-1] + Grid[i,j] + Grid[i,j+1] + Grid[i+1,j-1] + Grid[i+1,j] + Grid[i+1,j+1])"
   ]
  },
  {
   "cell_type": "code",
   "execution_count": null,
   "metadata": {},
   "outputs": [],
   "source": [
    "#Creation of the function that will update the grid\n",
    "def updateGrid(Grid):\n",
    "    for i in range(1,len(Grid)-1):\n",
    "        for j in range(1,len(Grid)-1):\n",
    "            if Grid[i,j] == 1:\n",
    "                if sumArea(i,j,Grid) < 2 or sumArea(i,j,Grid) > 3:\n",
    "                    GridB[i,j] = 0\n",
    "            else:\n",
    "                if sumArea(i,j,Grid) == 3:\n",
    "                    GridB[i,j] = 1\n",
    "    return GridA = GridB"
   ]
  },
  {
   "cell_type": "code",
   "execution_count": 38,
   "metadata": {},
   "outputs": [
    {
     "data": {
      "image/png": "[encoded data removed]",
      "text/plain": [
       "<Figure size 432x288 with 1 Axes>"
      ]
     },
     "metadata": {
      "needs_background": "light"
     },
     "output_type": "display_data"
    }
   ],
   "source": [
    "def plot_grid(Grid):\n",
    "    plt.imshow(Grid, cmap='binary')\n",
    "    plt.show()\n",
    "\n",
    "plot_grid(GridA)"
   ]
  },
  {
   "cell_type": "code",
   "execution_count": null,
   "metadata": {},
   "outputs": [],
   "source": [
    "def sum_upper_border(Grid):\n",
    "    for i in range(1,len(Grid)-1):\n",
    "        for j in range(1,len(Grid)-1):"
   ]
  },
  {
   "cell_type": "code",
   "execution_count": null,
   "metadata": {},
   "outputs": [],
   "source": [
    "#creation of a function that will check the border\n",
    "def updateborder(Grid):\n",
    "    for i in range(len(Grid)):\n",
    "        if \n",
    "        Grid[i,0] = 1"
   ]
  },
  {
   "cell_type": "code",
   "execution_count": null,
   "metadata": {},
   "outputs": [],
   "source": [
    "np.ndindex"
   ]
  }
 ],
 "metadata": {
  "interpreter": {
   "hash": "24f1611b583980b02b4c0a60ed010c827b70aa276f582c9ffeebf0756c69cc5b"
  },
  "kernelspec": {
   "display_name": "Python 3.9.7 64-bit ('Data Python Env': conda)",
   "language": "python",
   "name": "python3"
  },
  "language_info": {
   "codemirror_mode": {
    "name": "ipython",
    "version": 3
   },
   "file_extension": ".py",
   "mimetype": "text/x-python",
   "name": "python",
   "nbconvert_exporter": "python",
   "pygments_lexer": "ipython3",
   "version": "3.9.7"
  },
  "orig_nbformat": 4
 },
 "nbformat": 4,
 "nbformat_minor": 2
}
