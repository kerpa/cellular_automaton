{
    "cells": [
        {
            "cell_type": "code",
            "execution_count": 2,
            "source": [
                "import numpy as np"
            ],
            "outputs": [],
            "metadata": {}
        },
        {
            "cell_type": "code",
            "execution_count": 80,
            "source": [
                "#creation of the area \n",
                "n = 10\n",
                "area_a = np.zeros((n,n))\n",
                "area_b = np.zeros((n,n))\n",
                "area_a"
            ],
            "outputs": [
                {
                    "output_type": "execute_result",
                    "data": {
                        "text/plain": [
                            "array([[0., 0., 0., 0., 0., 0., 0., 0., 0., 0.],\n",
                            "       [0., 0., 0., 0., 0., 0., 0., 0., 0., 0.],\n",
                            "       [0., 0., 0., 0., 0., 0., 0., 0., 0., 0.],\n",
                            "       [0., 0., 0., 0., 0., 0., 0., 0., 0., 0.],\n",
                            "       [0., 0., 0., 0., 0., 0., 0., 0., 0., 0.],\n",
                            "       [0., 0., 0., 0., 0., 0., 0., 0., 0., 0.],\n",
                            "       [0., 0., 0., 0., 0., 0., 0., 0., 0., 0.],\n",
                            "       [0., 0., 0., 0., 0., 0., 0., 0., 0., 0.],\n",
                            "       [0., 0., 0., 0., 0., 0., 0., 0., 0., 0.],\n",
                            "       [0., 0., 0., 0., 0., 0., 0., 0., 0., 0.]])"
                        ]
                    },
                    "metadata": {},
                    "execution_count": 80
                }
            ],
            "metadata": {}
        },
        {
            "cell_type": "code",
            "execution_count": 39,
            "source": [
                "#la pertubation\n",
                "area_a[1,1] = 2\n",
                "area_a[0,0] = 1\n",
                "area_a[n-1, n-1] = 1\n",
                "area_a"
            ],
            "outputs": [
                {
                    "output_type": "execute_result",
                    "data": {
                        "text/plain": [
                            "array([[1., 0., 0., 0., 0., 0., 0., 0., 0., 0.],\n",
                            "       [0., 2., 0., 0., 0., 0., 0., 0., 0., 0.],\n",
                            "       [0., 0., 0., 0., 0., 0., 0., 0., 0., 0.],\n",
                            "       [0., 0., 0., 0., 0., 0., 0., 0., 0., 0.],\n",
                            "       [0., 0., 0., 0., 0., 0., 0., 0., 0., 0.],\n",
                            "       [0., 0., 0., 0., 0., 0., 0., 0., 0., 0.],\n",
                            "       [0., 0., 0., 0., 0., 0., 0., 0., 0., 0.],\n",
                            "       [0., 0., 0., 0., 0., 0., 0., 0., 0., 0.],\n",
                            "       [0., 0., 0., 0., 0., 0., 0., 0., 0., 0.],\n",
                            "       [0., 0., 0., 0., 0., 0., 0., 0., 0., 1.]])"
                        ]
                    },
                    "metadata": {},
                    "execution_count": 39
                }
            ],
            "metadata": {}
        },
        {
            "cell_type": "code",
            "execution_count": 81,
            "source": [
                "#creation of the interior checker\n",
                "def spread_function(array_x):\n",
                "    '''spread 1 through X a 2d array'''\n",
                "    for i1 in range(1, n-1):\n",
                "        for i2 in range(1, n-1):\n",
                "            if array_x[i1,i2] > 0:\n",
                "                compteur = 0\n",
                "                for h1 in range(i1-1,i1+2):\n",
                "                    for h2 in range(i1-1,i1+2):\n",
                "                          compteur+= 1\n",
                "                if compteur > 5:\n",
                "                    array_x[i1,i2]=0\n",
                "            elif array_x[i1,i2]==0\n",
                "\n",
                "            # if array_x[i1, i2] == 1:\n",
                "            #     array_x[i1-1, i2] += 1\n",
                "            #     array_x[i1, i2-1] += 1\n",
                "            #     array_x[i1+1, i2] += 1\n",
                "            #     array_x[i1, i2+1] += 1\n",
                "                \n",
                "    return array_x\n",
                "\n",
                "spread_function(area_a)\n",
                "area_a"
            ],
            "outputs": [
                {
                    "output_type": "execute_result",
                    "data": {
                        "text/plain": [
                            "array([[0., 0., 0., 0., 0., 0., 0., 0., 0., 0.],\n",
                            "       [0., 0., 0., 0., 0., 0., 0., 0., 0., 0.],\n",
                            "       [0., 0., 0., 0., 0., 0., 0., 0., 0., 0.],\n",
                            "       [0., 0., 0., 0., 0., 0., 0., 0., 0., 0.],\n",
                            "       [0., 0., 0., 0., 0., 0., 0., 0., 0., 0.],\n",
                            "       [0., 0., 0., 0., 0., 0., 0., 0., 0., 0.],\n",
                            "       [0., 0., 0., 0., 0., 0., 0., 0., 0., 0.],\n",
                            "       [0., 0., 0., 0., 0., 0., 0., 0., 0., 0.],\n",
                            "       [0., 0., 0., 0., 0., 0., 0., 0., 0., 0.],\n",
                            "       [0., 0., 0., 0., 0., 0., 0., 0., 0., 0.]])"
                        ]
                    },
                    "metadata": {},
                    "execution_count": 81
                }
            ],
            "metadata": {}
        }
    ],
    "metadata": {
        "orig_nbformat": 4,
        "language_info": {
            "name": "python",
            "version": "3.8.8",
            "mimetype": "text/x-python",
            "codemirror_mode": {
                "name": "ipython",
                "version": 3
            },
            "pygments_lexer": "ipython3",
            "nbconvert_exporter": "python",
            "file_extension": ".py"
        },
        "kernelspec": {
            "name": "python3",
            "display_name": "Python 3.8.8 64-bit ('base': conda)"
        },
        "interpreter": {
            "hash": "99bb696bbed8dce976c9191d0a36bc64c2fc5a12bbaaa0f617fffb0908ad3622"
        }
    },
    "nbformat": 4,
    "nbformat_minor": 2
}