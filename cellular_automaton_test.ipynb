{
    "cells": [
        {
            "cell_type": "code",
            "execution_count": 2,
            "source": [
                "import numpy as np"
            ],
            "outputs": [],
            "metadata": {}
        },
        {
            "cell_type": "code",
            "execution_count": 3,
            "source": [
                "#creation of the area \r\n",
                "n = 10\r\n",
                "area_a = np.zeros((n,n))\r\n",
                "area_b = np.zeros((n,n))\r\n",
                "area_a"
            ],
            "outputs": [
                {
                    "output_type": "execute_result",
                    "data": {
                        "text/plain": [
                            "array([[0., 0., 0., 0., 0., 0., 0., 0., 0., 0.],\n",
                            "       [0., 0., 0., 0., 0., 0., 0., 0., 0., 0.],\n",
                            "       [0., 0., 0., 0., 0., 0., 0., 0., 0., 0.],\n",
                            "       [0., 0., 0., 0., 0., 0., 0., 0., 0., 0.],\n",
                            "       [0., 0., 0., 0., 0., 0., 0., 0., 0., 0.],\n",
                            "       [0., 0., 0., 0., 0., 0., 0., 0., 0., 0.],\n",
                            "       [0., 0., 0., 0., 0., 0., 0., 0., 0., 0.],\n",
                            "       [0., 0., 0., 0., 0., 0., 0., 0., 0., 0.],\n",
                            "       [0., 0., 0., 0., 0., 0., 0., 0., 0., 0.],\n",
                            "       [0., 0., 0., 0., 0., 0., 0., 0., 0., 0.]])"
                        ]
                    },
                    "metadata": {},
                    "execution_count": 3
                }
            ],
            "metadata": {}
        },
        {
            "cell_type": "code",
            "execution_count": 8,
            "source": [
                "#la pertubation\r\n",
                "area_a[1,1] = 1\r\n",
                "area_a[0,0] = 1\r\n",
                "area_a[n-1, n-1] = 1\r\n",
                "area_a"
            ],
            "outputs": [
                {
                    "output_type": "execute_result",
                    "data": {
                        "text/plain": [
                            "array([[1., 0., 0., 0., 0., 0., 0., 0., 0., 0.],\n",
                            "       [0., 1., 0., 0., 0., 0., 0., 0., 0., 0.],\n",
                            "       [0., 0., 0., 0., 0., 0., 0., 0., 0., 0.],\n",
                            "       [0., 0., 0., 0., 0., 0., 0., 0., 0., 0.],\n",
                            "       [0., 0., 0., 0., 0., 0., 0., 0., 0., 0.],\n",
                            "       [0., 0., 0., 0., 0., 0., 0., 0., 0., 0.],\n",
                            "       [0., 0., 0., 0., 0., 0., 0., 0., 0., 0.],\n",
                            "       [0., 0., 0., 0., 0., 0., 0., 0., 0., 0.],\n",
                            "       [0., 0., 0., 0., 0., 0., 0., 0., 0., 0.],\n",
                            "       [0., 0., 0., 0., 0., 0., 0., 0., 0., 1.]])"
                        ]
                    },
                    "metadata": {},
                    "execution_count": 8
                }
            ],
            "metadata": {}
        },
        {
            "cell_type": "code",
            "execution_count": 9,
            "source": [
                "#creation of the interior checker\r\n",
                "def spread_function(array_x):\r\n",
                "    '''spread 1 through X a 2d array'''\r\n",
                "    for i1 in range(1, n-1):\r\n",
                "        for i2 in range(1, n-1):\r\n",
                "            #if the cell if already full\r\n",
                "            if array_x[i1,i2] > 0:\r\n",
                "                compteur = 0\r\n",
                "                #we check around it\r\n",
                "                for h1 in range(i1-1,i1+2):\r\n",
                "                    for h2 in range(i1-1,i1+2):\r\n",
                "                        if array_x[h1,h2]==1:\r\n",
                "                            compteur+= 1\r\n",
                "                #if the area is saturated the cell dies\r\n",
                "                if compteur > 5:\r\n",
                "                    array_x[i1,i2] = 0\r\n",
                "            #if the cell is empty\r\n",
                "            elif array_x[i1,i2]==0:\r\n",
                "                compteur = 0\r\n",
                "                #we check around it\r\n",
                "                for h1 in range(i1-1,i1+2):\r\n",
                "                    for h2 in range(i1-1,i1+2):\r\n",
                "                        if array_x[h1,h2]==1:\r\n",
                "                            compteur+= 1\r\n",
                "                #with enough space a cell emerges\r\n",
                "                if 1 > compteur > 5:\r\n",
                "                      array_x[i1,i2] = 1                          \r\n",
                "    return array_x\r\n",
                "\r\n",
                "spread_function(area_a)\r\n",
                "area_a"
            ],
            "outputs": [
                {
                    "output_type": "execute_result",
                    "data": {
                        "text/plain": [
                            "array([[1., 0., 0., 0., 0., 0., 0., 0., 0., 0.],\n",
                            "       [0., 1., 0., 0., 0., 0., 0., 0., 0., 0.],\n",
                            "       [0., 0., 0., 0., 0., 0., 0., 0., 0., 0.],\n",
                            "       [0., 0., 0., 0., 0., 0., 0., 0., 0., 0.],\n",
                            "       [0., 0., 0., 0., 0., 0., 0., 0., 0., 0.],\n",
                            "       [0., 0., 0., 0., 0., 0., 0., 0., 0., 0.],\n",
                            "       [0., 0., 0., 0., 0., 0., 0., 0., 0., 0.],\n",
                            "       [0., 0., 0., 0., 0., 0., 0., 0., 0., 0.],\n",
                            "       [0., 0., 0., 0., 0., 0., 0., 0., 0., 0.],\n",
                            "       [0., 0., 0., 0., 0., 0., 0., 0., 0., 1.]])"
                        ]
                    },
                    "metadata": {},
                    "execution_count": 9
                }
            ],
            "metadata": {}
        }
    ],
    "metadata": {
        "orig_nbformat": 4,
        "language_info": {
            "name": "python",
            "version": "3.8.10",
            "mimetype": "text/x-python",
            "codemirror_mode": {
                "name": "ipython",
                "version": 3
            },
            "pygments_lexer": "ipython3",
            "nbconvert_exporter": "python",
            "file_extension": ".py"
        },
        "kernelspec": {
            "name": "python3",
            "display_name": "Python 3.8.10 64-bit ('base': conda)"
        },
        "interpreter": {
            "hash": "b3ba2566441a7c06988d0923437866b63cedc61552a5af99d1f4fb67d367b25f"
        }
    },
    "nbformat": 4,
    "nbformat_minor": 2
}